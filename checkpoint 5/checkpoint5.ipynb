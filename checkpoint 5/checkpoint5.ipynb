{
 "cells": [
  {
   "attachments": {},
   "cell_type": "markdown",
   "metadata": {},
   "source": [
    "●Necessidade 1: Limpar os dados e fazer uma análise exploratória;\n",
    "\n",
    "●Necessidade 2: Utilizar uma metodologia adequada para treinar e validar um modelo (divisão treino e teste com proporção 80%/20%);\n",
    "\n",
    "●Necessidade 3: Treinar e validar diferentes modelos, obtendo uma acurácia de 97% no teste."
   ]
  },
  {
   "cell_type": "code",
   "execution_count": 2,
   "metadata": {},
   "outputs": [],
   "source": [
    "!pip install --quiet -r requirements.txt\n",
    "\n",
    "import pandas as pd \n",
    "import seaborn as sns\n",
    "import matplotlib.pyplot as plt"
   ]
  },
  {
   "cell_type": "code",
   "execution_count": null,
   "metadata": {},
   "outputs": [],
   "source": [
    "df_clean=df.dropna() #cria o df_clean e tira dos dados faltantes"
   ]
  },
  {
   "cell_type": "code",
   "execution_count": 9,
   "metadata": {},
   "outputs": [
    {
     "data": {
      "text/html": [
       "<div>\n",
       "<style scoped>\n",
       "    .dataframe tbody tr th:only-of-type {\n",
       "        vertical-align: middle;\n",
       "    }\n",
       "\n",
       "    .dataframe tbody tr th {\n",
       "        vertical-align: top;\n",
       "    }\n",
       "\n",
       "    .dataframe thead th {\n",
       "        text-align: right;\n",
       "    }\n",
       "</style>\n",
       "<table border=\"1\" class=\"dataframe\">\n",
       "  <thead>\n",
       "    <tr style=\"text-align: right;\">\n",
       "      <th></th>\n",
       "      <th>comestivel</th>\n",
       "      <th>diâmetro do chapéu</th>\n",
       "      <th>forma do chapéu</th>\n",
       "      <th>fixação das lamelas</th>\n",
       "      <th>cor das lamelas</th>\n",
       "      <th>coluna completamente inutil (me remova)</th>\n",
       "      <th>altura do caule</th>\n",
       "      <th>largura do caule</th>\n",
       "      <th>cor do caule</th>\n",
       "      <th>coluna de origem duvidosa (use por sua conta em risco)</th>\n",
       "      <th>estação</th>\n",
       "    </tr>\n",
       "  </thead>\n",
       "  <tbody>\n",
       "    <tr>\n",
       "      <th>47762</th>\n",
       "      <td>1.0</td>\n",
       "      <td>1076.0</td>\n",
       "      <td>7.0</td>\n",
       "      <td>1.0</td>\n",
       "      <td>5.0</td>\n",
       "      <td>11.971393</td>\n",
       "      <td>0.083984</td>\n",
       "      <td>1301.0</td>\n",
       "      <td>6.0</td>\n",
       "      <td>10.54894</td>\n",
       "      <td>0.88845</td>\n",
       "    </tr>\n",
       "  </tbody>\n",
       "</table>\n",
       "</div>"
      ],
      "text/plain": [
       "       comestivel  diâmetro do chapéu  forma do chapéu  fixação das lamelas  \\\n",
       "47762         1.0              1076.0              7.0                  1.0   \n",
       "\n",
       "       cor das lamelas  coluna completamente inutil (me remova)  \\\n",
       "47762              5.0                                11.971393   \n",
       "\n",
       "       altura do caule  largura do caule  cor do caule  \\\n",
       "47762         0.083984            1301.0           6.0   \n",
       "\n",
       "       coluna de origem duvidosa (use por sua conta em risco)  estação  \n",
       "47762                                           10.54894       0.88845  "
      ]
     },
     "execution_count": 9,
     "metadata": {},
     "output_type": "execute_result"
    }
   ],
   "source": [
    "df_clean.sample()"
   ]
  }
 ],
 "metadata": {
  "kernelspec": {
   "display_name": "Python 3",
   "language": "python",
   "name": "python3"
  },
  "language_info": {
   "codemirror_mode": {
    "name": "ipython",
    "version": 3
   },
   "file_extension": ".py",
   "mimetype": "text/x-python",
   "name": "python",
   "nbconvert_exporter": "python",
   "pygments_lexer": "ipython3",
   "version": "3.10.9"
  },
  "orig_nbformat": 4
 },
 "nbformat": 4,
 "nbformat_minor": 2
}
