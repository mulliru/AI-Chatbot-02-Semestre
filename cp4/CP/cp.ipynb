{
 "cells": [
  {
   "attachments": {},
   "cell_type": "markdown",
   "metadata": {},
   "source": [
    "**Realizando a cp**\n"
   ]
  },
  {
   "cell_type": "code",
   "execution_count": null,
   "metadata": {},
   "outputs": [],
   "source": [
    "!pip install pandas matplotlib seaborn\n",
    "\n",
    "import matplotlib.pyplot as plt \n",
    "import pandas as pd \n",
    "import seaborn as sns"
   ]
  },
  {
   "cell_type": "code",
   "execution_count": 6,
   "metadata": {},
   "outputs": [],
   "source": [
    "df = pd.read_csv (\"..\\cure_a_princesa.csv\")"
   ]
  },
  {
   "cell_type": "code",
   "execution_count": 7,
   "metadata": {},
   "outputs": [
    {
     "data": {
      "text/html": [
       "<div>\n",
       "<style scoped>\n",
       "    .dataframe tbody tr th:only-of-type {\n",
       "        vertical-align: middle;\n",
       "    }\n",
       "\n",
       "    .dataframe tbody tr th {\n",
       "        vertical-align: top;\n",
       "    }\n",
       "\n",
       "    .dataframe thead th {\n",
       "        text-align: right;\n",
       "    }\n",
       "</style>\n",
       "<table border=\"1\" class=\"dataframe\">\n",
       "  <thead>\n",
       "    <tr style=\"text-align: right;\">\n",
       "      <th></th>\n",
       "      <th>Escama de basilisco</th>\n",
       "      <th>Chifre de minotauro</th>\n",
       "      <th>Garra de grifo</th>\n",
       "      <th>Lagrimas de sereia</th>\n",
       "      <th>Chifre de unicornio</th>\n",
       "      <th>Sangue de dragao</th>\n",
       "      <th>Tinta de kraken</th>\n",
       "      <th>Presa de quimera</th>\n",
       "      <th>Curada</th>\n",
       "    </tr>\n",
       "  </thead>\n",
       "  <tbody>\n",
       "    <tr>\n",
       "      <th>749</th>\n",
       "      <td>4.413128</td>\n",
       "      <td>0.0</td>\n",
       "      <td>0.0</td>\n",
       "      <td>59.743819</td>\n",
       "      <td>0.0</td>\n",
       "      <td>NaN</td>\n",
       "      <td>1.301846</td>\n",
       "      <td>12.078985</td>\n",
       "      <td>0.0</td>\n",
       "    </tr>\n",
       "  </tbody>\n",
       "</table>\n",
       "</div>"
      ],
      "text/plain": [
       "     Escama de basilisco  Chifre de minotauro  Garra de grifo  \\\n",
       "749             4.413128                  0.0             0.0   \n",
       "\n",
       "     Lagrimas de sereia  Chifre de unicornio  Sangue de dragao  \\\n",
       "749           59.743819                  0.0               NaN   \n",
       "\n",
       "     Tinta de kraken  Presa de quimera  Curada  \n",
       "749         1.301846         12.078985     0.0  "
      ]
     },
     "execution_count": 7,
     "metadata": {},
     "output_type": "execute_result"
    }
   ],
   "source": [
    "df.sample() #Função que dá uma linha aleatória."
   ]
  },
  {
   "cell_type": "code",
   "execution_count": 8,
   "metadata": {},
   "outputs": [
    {
     "data": {
      "text/plain": [
       "(1000, 9)"
      ]
     },
     "execution_count": 8,
     "metadata": {},
     "output_type": "execute_result"
    }
   ],
   "source": [
    "df.shape #para mostrar o tamanho da planilha"
   ]
  },
  {
   "cell_type": "code",
   "execution_count": null,
   "metadata": {},
   "outputs": [],
   "source": []
  },
  {
   "cell_type": "code",
   "execution_count": 27,
   "metadata": {},
   "outputs": [
    {
     "name": "stdout",
     "output_type": "stream",
     "text": [
      "<class 'pandas.core.frame.DataFrame'>\n",
      "RangeIndex: 1000 entries, 0 to 999\n",
      "Data columns (total 9 columns):\n",
      " #   Column               Non-Null Count  Dtype  \n",
      "---  ------               --------------  -----  \n",
      " 0   Escama de basilisco  975 non-null    float64\n",
      " 1   Chifre de minotauro  985 non-null    float64\n",
      " 2   Garra de grifo       959 non-null    float64\n",
      " 3   Lagrimas de sereia   977 non-null    float64\n",
      " 4   Chifre de unicornio  978 non-null    float64\n",
      " 5   Sangue de dragao     973 non-null    float64\n",
      " 6   Tinta de kraken      974 non-null    float64\n",
      " 7   Presa de quimera     977 non-null    float64\n",
      " 8   Curada               974 non-null    float64\n",
      "dtypes: float64(9)\n",
      "memory usage: 70.4 KB\n"
     ]
    }
   ],
   "source": [
    "df.info() ##Mostra os dados faltantes."
   ]
  },
  {
   "cell_type": "code",
   "execution_count": null,
   "metadata": {},
   "outputs": [],
   "source": [
    "#Cria uma cópia modificada excluindo dados faltantes sem salvar\n",
    "df.dropna()"
   ]
  },
  {
   "cell_type": "code",
   "execution_count": 25,
   "metadata": {},
   "outputs": [],
   "source": [
    "# Cria uma cópia modificada excluindo dados faltantes e salva.\n",
    "df_clean = df.dropna()"
   ]
  },
  {
   "cell_type": "code",
   "execution_count": 26,
   "metadata": {},
   "outputs": [
    {
     "name": "stdout",
     "output_type": "stream",
     "text": [
      "<class 'pandas.core.frame.DataFrame'>\n",
      "Index: 795 entries, 0 to 999\n",
      "Data columns (total 9 columns):\n",
      " #   Column               Non-Null Count  Dtype  \n",
      "---  ------               --------------  -----  \n",
      " 0   Escama de basilisco  795 non-null    float64\n",
      " 1   Chifre de minotauro  795 non-null    float64\n",
      " 2   Garra de grifo       795 non-null    float64\n",
      " 3   Lagrimas de sereia   795 non-null    float64\n",
      " 4   Chifre de unicornio  795 non-null    float64\n",
      " 5   Sangue de dragao     795 non-null    float64\n",
      " 6   Tinta de kraken      795 non-null    float64\n",
      " 7   Presa de quimera     795 non-null    float64\n",
      " 8   Curada               795 non-null    float64\n",
      "dtypes: float64(9)\n",
      "memory usage: 62.1 KB\n"
     ]
    }
   ],
   "source": [
    "# Remover dados duplicados e salva uma cópia.\n",
    "df_clean_noduplicate = df_clean.drop_duplicates()\n",
    "\n",
    "df_clean_noduplicate.info()"
   ]
  },
  {
   "attachments": {},
   "cell_type": "markdown",
   "metadata": {},
   "source": [
    "**SANGUE DE DRAGÃO**\n",
    "\n",
    "\n",
    "*min: 72.345061\n",
    "max: 133.790739\n",
    "média: 99.574368*\n",
    "\n",
    "Presa de Equimera = tóxico"
   ]
  },
  {
   "cell_type": "code",
   "execution_count": 24,
   "metadata": {},
   "outputs": [
    {
     "data": {
      "text/plain": [
       "<Figure size 640x480 with 0 Axes>"
      ]
     },
     "metadata": {},
     "output_type": "display_data"
    }
   ],
   "source": [
    "#Gráfico de curados\n",
    "plt.figure()\n",
    "\n",
    "sns.kdeplot(df, x=\"curada\")\n",
    "\n",
    "plt.show()"
   ]
  },
  {
   "cell_type": "code",
   "execution_count": null,
   "metadata": {},
   "outputs": [],
   "source": []
  }
 ],
 "metadata": {
  "kernelspec": {
   "display_name": "base",
   "language": "python",
   "name": "python3"
  },
  "language_info": {
   "codemirror_mode": {
    "name": "ipython",
    "version": 3
   },
   "file_extension": ".py",
   "mimetype": "text/x-python",
   "name": "python",
   "nbconvert_exporter": "python",
   "pygments_lexer": "ipython3",
   "version": "3.9.12"
  },
  "orig_nbformat": 4
 },
 "nbformat": 4,
 "nbformat_minor": 2
}
